{
  "nbformat": 4,
  "nbformat_minor": 0,
  "metadata": {
    "colab": {
      "provenance": [],
      "authorship_tag": "ABX9TyNvwrc1vV0e44l4LmxQn49O"
    },
    "kernelspec": {
      "name": "python3",
      "display_name": "Python 3"
    },
    "language_info": {
      "name": "python"
    }
  },
  "cells": [
    {
      "cell_type": "code",
      "execution_count": 30,
      "metadata": {
        "id": "BPXDkegjg4Bv"
      },
      "outputs": [],
      "source": [
        "import pandas as pd\n",
        "import numpy as np\n",
        "pd.set_option('display.width', 200)"
      ]
    },
    {
      "cell_type": "code",
      "source": [
        "avocado_data = pd.read_csv('avocado.csv')\n",
        "avocado_data.drop(columns=['Unnamed: 0'], inplace=True)\n",
        "avocado_data.set_index('Date', inplace=True)\n",
        "avocado_data.sort_values(by='Date', ascending=True, inplace=True)\n",
        "avocado_data.reset_index(inplace=True)"
      ],
      "metadata": {
        "id": "caMAJns5kLTk"
      },
      "execution_count": 31,
      "outputs": []
    },
    {
      "cell_type": "code",
      "source": [
        "print(avocado_data.head())"
      ],
      "metadata": {
        "colab": {
          "base_uri": "https://localhost:8080/"
        },
        "id": "pRBwwRbikPaA",
        "outputId": "2a64fb90-e38d-4390-b034-d982d1313427"
      },
      "execution_count": 32,
      "outputs": [
        {
          "output_type": "stream",
          "name": "stdout",
          "text": [
            "         Date  AveragePrice  Total Volume     4046      4225     4770  Total Bags  Small Bags  Large Bags  XLarge Bags          type  year              region\n",
            "0  2015-01-04          1.75      27365.89  9307.34   3844.81   615.28    13598.46    13061.10      537.36          0.0       organic  2015           Southeast\n",
            "1  2015-01-04          1.49      17723.17  1189.35  15628.27     0.00      905.55      905.55        0.00          0.0       organic  2015             Chicago\n",
            "2  2015-01-04          1.68       2896.72   161.68    206.96     0.00     2528.08     2528.08        0.00          0.0       organic  2015  HarrisburgScranton\n",
            "3  2015-01-04          1.52      54956.80  3013.04  35456.88  1561.70    14925.18    11264.80     3660.38          0.0  conventional  2015          Pittsburgh\n",
            "4  2015-01-04          1.64       1505.12     1.27   1129.50     0.00      374.35      186.67      187.68          0.0       organic  2015               Boise\n"
          ]
        }
      ]
    }
  ]
}